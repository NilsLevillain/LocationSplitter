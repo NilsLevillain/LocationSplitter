{
 "cells": [
  {
   "cell_type": "code",
   "execution_count": null,
   "id": "0c3364f7",
   "metadata": {},
   "outputs": [],
   "source": [
    "pip install python-dotenv\n",
    "pip install pandas"
   ]
  },
  {
   "cell_type": "code",
   "execution_count": null,
   "id": "6e9788e6",
   "metadata": {},
   "outputs": [],
   "source": [
    "import os\n",
    "from dotenv import load_dotenv"
   ]
  },
  {
   "cell_type": "code",
   "execution_count": null,
   "id": "385c9e31",
   "metadata": {},
   "outputs": [],
   "source": [
    "load_dotenv('Exemple.env')"
   ]
  },
  {
   "cell_type": "code",
   "execution_count": null,
   "id": "e25b9468",
   "metadata": {},
   "outputs": [],
   "source": [
    "os.getcwd()"
   ]
  },
  {
   "cell_type": "code",
   "execution_count": null,
   "id": "0977fbf3",
   "metadata": {},
   "outputs": [],
   "source": [
    "os.listdir()"
   ]
  },
  {
   "cell_type": "code",
   "execution_count": null,
   "id": "71e939c3",
   "metadata": {},
   "outputs": [],
   "source": []
  },
  {
   "cell_type": "code",
   "execution_count": null,
   "id": "15925b33",
   "metadata": {},
   "outputs": [],
   "source": [
    "input_file = os.getenv('input_file')\n",
    "output_folder = os.getenv('output_folder')\n",
    "print(input_file, output_folder)"
   ]
  },
  {
   "cell_type": "code",
   "execution_count": null,
   "id": "5dbec992",
   "metadata": {},
   "outputs": [],
   "source": [
    "def split_excel_file(input_file, output_folder, max_lines=500):\n",
    "    # Load the Excel data\n",
    "    metadata = pd.read_excel(input_file, sheet_name='Metadata')\n",
    "    configuration = pd.read_excel(input_file, sheet_name='Configuration')\n",
    "    location = pd.read_excel(input_file, sheet_name='Location')\n",
    "    #locationuom = pd.read_excel(input_file, sheet_name='LocationUom')\n",
    "\n",
    "    # Replace \"0\" with \"FAUX\" in the \"value\" column of the \"configuration\" DataFrame\n",
    "    configuration['Value'] = configuration['Value'].replace({0: False})\n",
    "\n",
    "    # Split the DataFrame into chunks based on the user-provided max_lines\n",
    "    location_chunks = [location[i:i+max_lines] for i in range(0, location.shape[0], max_lines)]\n",
    "    #locationuom_chunks = [locationuom[i:i+max_lines] for i in range(0, locationuom.shape[0], max_lines)]\n",
    "\n",
    "    # Create output directory if it doesn't exist\n",
    "    os.makedirs(output_folder, exist_ok=True)\n",
    "\n",
    "    # Write chunks to separate Excel files\n",
    "    print(\"Writing chunks to Excel files...\")\n",
    "   # for idx, (loc_chunk, locuom_chunk) in enumerate(zip(location_chunks, locationuom_chunks), start=1):\n",
    "    for idx, loc_chunk in enumerate(location_chunks, start=1):\n",
    "        output_file = os.path.join(output_folder, f'output{idx}.xlsx')\n",
    "        print(f\"Writing chunk {idx} to {output_file}\")\n",
    "\n",
    "        try:\n",
    "            with pd.ExcelWriter(output_file) as writer:\n",
    "                metadata.to_excel(writer, sheet_name='Metadata', index=False)\n",
    "                configuration.to_excel(writer, sheet_name='Configuration', index=False)\n",
    "                loc_chunk.to_excel(writer, sheet_name='Location', index=False)\n",
    "     #           locuom_chunk.to_excel(writer, sheet_name='LocationUom', index=False)\n",
    "            print(f\"Chunk {idx} written successfully.\")\n",
    "        except Exception as e:\n",
    "            print(f\"Error writing chunk {idx}: {e}\")\n",
    "\n",
    "    print(\"File splitting completed.\")\n",
    "    return len(location_chunks)"
   ]
  },
  {
   "cell_type": "code",
   "execution_count": null,
   "id": "fe10a154",
   "metadata": {},
   "outputs": [],
   "source": [
    "max_lines = 500\n",
    "\n",
    "num_files_created = split_excel_file(input_file, ouput_folder, max_lines=500)\n",
    "\n",
    "print(f\"The file splitting has generated {num_files_created} files with {max_lines} lines each for data ingestion into Manhattan.\")"
   ]
  }
 ],
 "metadata": {
  "kernelspec": {
   "display_name": "Python 3 (ipykernel)",
   "language": "python",
   "name": "python3"
  },
  "language_info": {
   "codemirror_mode": {
    "name": "ipython",
    "version": 3
   },
   "file_extension": ".py",
   "mimetype": "text/x-python",
   "name": "python",
   "nbconvert_exporter": "python",
   "pygments_lexer": "ipython3",
   "version": "3.9.13"
  }
 },
 "nbformat": 4,
 "nbformat_minor": 5
}
